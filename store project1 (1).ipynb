{
 "cells": [
  {
   "cell_type": "markdown",
   "id": "fdf83f01",
   "metadata": {},
   "source": [
    "# Supermarket Store Analysis\n",
    "    \n",
    "    \n",
    "  ### By: Reuben Trabi  \n",
    "  \n",
    "  \n",
    "  \n",
    " ### Link to dataset : https://www.kaggle.com/datasets/surajjha101/stores-area-and-sales-data\n",
    " "
   ]
  },
  {
   "cell_type": "code",
   "execution_count": 48,
   "id": "dae0acb7",
   "metadata": {},
   "outputs": [],
   "source": [
    "import pandas as pd\n"
   ]
  },
  {
   "cell_type": "code",
   "execution_count": 8,
   "id": "34c0c043",
   "metadata": {},
   "outputs": [
    {
     "data": {
      "text/html": [
       "<div>\n",
       "<style scoped>\n",
       "    .dataframe tbody tr th:only-of-type {\n",
       "        vertical-align: middle;\n",
       "    }\n",
       "\n",
       "    .dataframe tbody tr th {\n",
       "        vertical-align: top;\n",
       "    }\n",
       "\n",
       "    .dataframe thead th {\n",
       "        text-align: right;\n",
       "    }\n",
       "</style>\n",
       "<table border=\"1\" class=\"dataframe\">\n",
       "  <thead>\n",
       "    <tr style=\"text-align: right;\">\n",
       "      <th></th>\n",
       "      <th>Store ID</th>\n",
       "      <th>Store_Area</th>\n",
       "      <th>Items_Available</th>\n",
       "      <th>Daily_Customer_Count</th>\n",
       "      <th>Store_Sales</th>\n",
       "    </tr>\n",
       "  </thead>\n",
       "  <tbody>\n",
       "    <tr>\n",
       "      <th>0</th>\n",
       "      <td>1</td>\n",
       "      <td>1659</td>\n",
       "      <td>1961</td>\n",
       "      <td>530</td>\n",
       "      <td>66490</td>\n",
       "    </tr>\n",
       "    <tr>\n",
       "      <th>1</th>\n",
       "      <td>2</td>\n",
       "      <td>1461</td>\n",
       "      <td>1752</td>\n",
       "      <td>210</td>\n",
       "      <td>39820</td>\n",
       "    </tr>\n",
       "    <tr>\n",
       "      <th>2</th>\n",
       "      <td>3</td>\n",
       "      <td>1340</td>\n",
       "      <td>1609</td>\n",
       "      <td>720</td>\n",
       "      <td>54010</td>\n",
       "    </tr>\n",
       "    <tr>\n",
       "      <th>3</th>\n",
       "      <td>4</td>\n",
       "      <td>1451</td>\n",
       "      <td>1748</td>\n",
       "      <td>620</td>\n",
       "      <td>53730</td>\n",
       "    </tr>\n",
       "    <tr>\n",
       "      <th>4</th>\n",
       "      <td>5</td>\n",
       "      <td>1770</td>\n",
       "      <td>2111</td>\n",
       "      <td>450</td>\n",
       "      <td>46620</td>\n",
       "    </tr>\n",
       "    <tr>\n",
       "      <th>...</th>\n",
       "      <td>...</td>\n",
       "      <td>...</td>\n",
       "      <td>...</td>\n",
       "      <td>...</td>\n",
       "      <td>...</td>\n",
       "    </tr>\n",
       "    <tr>\n",
       "      <th>891</th>\n",
       "      <td>892</td>\n",
       "      <td>1582</td>\n",
       "      <td>1910</td>\n",
       "      <td>1080</td>\n",
       "      <td>66390</td>\n",
       "    </tr>\n",
       "    <tr>\n",
       "      <th>892</th>\n",
       "      <td>893</td>\n",
       "      <td>1387</td>\n",
       "      <td>1663</td>\n",
       "      <td>850</td>\n",
       "      <td>82080</td>\n",
       "    </tr>\n",
       "    <tr>\n",
       "      <th>893</th>\n",
       "      <td>894</td>\n",
       "      <td>1200</td>\n",
       "      <td>1436</td>\n",
       "      <td>1060</td>\n",
       "      <td>76440</td>\n",
       "    </tr>\n",
       "    <tr>\n",
       "      <th>894</th>\n",
       "      <td>895</td>\n",
       "      <td>1299</td>\n",
       "      <td>1560</td>\n",
       "      <td>770</td>\n",
       "      <td>96610</td>\n",
       "    </tr>\n",
       "    <tr>\n",
       "      <th>895</th>\n",
       "      <td>896</td>\n",
       "      <td>1174</td>\n",
       "      <td>1429</td>\n",
       "      <td>1110</td>\n",
       "      <td>54340</td>\n",
       "    </tr>\n",
       "  </tbody>\n",
       "</table>\n",
       "<p>896 rows × 5 columns</p>\n",
       "</div>"
      ],
      "text/plain": [
       "     Store ID   Store_Area  Items_Available  Daily_Customer_Count  Store_Sales\n",
       "0            1        1659             1961                   530        66490\n",
       "1            2        1461             1752                   210        39820\n",
       "2            3        1340             1609                   720        54010\n",
       "3            4        1451             1748                   620        53730\n",
       "4            5        1770             2111                   450        46620\n",
       "..         ...         ...              ...                   ...          ...\n",
       "891        892        1582             1910                  1080        66390\n",
       "892        893        1387             1663                   850        82080\n",
       "893        894        1200             1436                  1060        76440\n",
       "894        895        1299             1560                   770        96610\n",
       "895        896        1174             1429                  1110        54340\n",
       "\n",
       "[896 rows x 5 columns]"
      ]
     },
     "execution_count": 8,
     "metadata": {},
     "output_type": "execute_result"
    }
   ],
   "source": [
    "pd.read_csv(\"C:\\\\Users\\coolb\\Stores.csv\")"
   ]
  },
  {
   "cell_type": "code",
   "execution_count": 9,
   "id": "816e0159",
   "metadata": {},
   "outputs": [],
   "source": [
    "store = pd.read_csv(\"C:\\\\Users\\coolb\\Stores.csv\")"
   ]
  },
  {
   "cell_type": "code",
   "execution_count": 10,
   "id": "6bec9f49",
   "metadata": {},
   "outputs": [
    {
     "data": {
      "text/html": [
       "<div>\n",
       "<style scoped>\n",
       "    .dataframe tbody tr th:only-of-type {\n",
       "        vertical-align: middle;\n",
       "    }\n",
       "\n",
       "    .dataframe tbody tr th {\n",
       "        vertical-align: top;\n",
       "    }\n",
       "\n",
       "    .dataframe thead th {\n",
       "        text-align: right;\n",
       "    }\n",
       "</style>\n",
       "<table border=\"1\" class=\"dataframe\">\n",
       "  <thead>\n",
       "    <tr style=\"text-align: right;\">\n",
       "      <th></th>\n",
       "      <th>Store ID</th>\n",
       "      <th>Store_Area</th>\n",
       "      <th>Items_Available</th>\n",
       "      <th>Daily_Customer_Count</th>\n",
       "      <th>Store_Sales</th>\n",
       "    </tr>\n",
       "  </thead>\n",
       "  <tbody>\n",
       "    <tr>\n",
       "      <th>0</th>\n",
       "      <td>1</td>\n",
       "      <td>1659</td>\n",
       "      <td>1961</td>\n",
       "      <td>530</td>\n",
       "      <td>66490</td>\n",
       "    </tr>\n",
       "    <tr>\n",
       "      <th>1</th>\n",
       "      <td>2</td>\n",
       "      <td>1461</td>\n",
       "      <td>1752</td>\n",
       "      <td>210</td>\n",
       "      <td>39820</td>\n",
       "    </tr>\n",
       "    <tr>\n",
       "      <th>2</th>\n",
       "      <td>3</td>\n",
       "      <td>1340</td>\n",
       "      <td>1609</td>\n",
       "      <td>720</td>\n",
       "      <td>54010</td>\n",
       "    </tr>\n",
       "    <tr>\n",
       "      <th>3</th>\n",
       "      <td>4</td>\n",
       "      <td>1451</td>\n",
       "      <td>1748</td>\n",
       "      <td>620</td>\n",
       "      <td>53730</td>\n",
       "    </tr>\n",
       "    <tr>\n",
       "      <th>4</th>\n",
       "      <td>5</td>\n",
       "      <td>1770</td>\n",
       "      <td>2111</td>\n",
       "      <td>450</td>\n",
       "      <td>46620</td>\n",
       "    </tr>\n",
       "    <tr>\n",
       "      <th>5</th>\n",
       "      <td>6</td>\n",
       "      <td>1442</td>\n",
       "      <td>1733</td>\n",
       "      <td>760</td>\n",
       "      <td>45260</td>\n",
       "    </tr>\n",
       "    <tr>\n",
       "      <th>6</th>\n",
       "      <td>7</td>\n",
       "      <td>1542</td>\n",
       "      <td>1858</td>\n",
       "      <td>1030</td>\n",
       "      <td>72240</td>\n",
       "    </tr>\n",
       "    <tr>\n",
       "      <th>7</th>\n",
       "      <td>8</td>\n",
       "      <td>1261</td>\n",
       "      <td>1507</td>\n",
       "      <td>1020</td>\n",
       "      <td>37720</td>\n",
       "    </tr>\n",
       "    <tr>\n",
       "      <th>8</th>\n",
       "      <td>9</td>\n",
       "      <td>1090</td>\n",
       "      <td>1321</td>\n",
       "      <td>680</td>\n",
       "      <td>46310</td>\n",
       "    </tr>\n",
       "    <tr>\n",
       "      <th>9</th>\n",
       "      <td>10</td>\n",
       "      <td>1030</td>\n",
       "      <td>1235</td>\n",
       "      <td>1130</td>\n",
       "      <td>44150</td>\n",
       "    </tr>\n",
       "  </tbody>\n",
       "</table>\n",
       "</div>"
      ],
      "text/plain": [
       "   Store ID   Store_Area  Items_Available  Daily_Customer_Count  Store_Sales\n",
       "0          1        1659             1961                   530        66490\n",
       "1          2        1461             1752                   210        39820\n",
       "2          3        1340             1609                   720        54010\n",
       "3          4        1451             1748                   620        53730\n",
       "4          5        1770             2111                   450        46620\n",
       "5          6        1442             1733                   760        45260\n",
       "6          7        1542             1858                  1030        72240\n",
       "7          8        1261             1507                  1020        37720\n",
       "8          9        1090             1321                   680        46310\n",
       "9         10        1030             1235                  1130        44150"
      ]
     },
     "execution_count": 10,
     "metadata": {},
     "output_type": "execute_result"
    }
   ],
   "source": [
    "store.head(10)"
   ]
  },
  {
   "cell_type": "code",
   "execution_count": 11,
   "id": "2ff570f2",
   "metadata": {},
   "outputs": [
    {
     "name": "stdout",
     "output_type": "stream",
     "text": [
      "(896, 5)\n"
     ]
    }
   ],
   "source": [
    "print(store.shape) ##There are 896 rows and 5 colums in the data set."
   ]
  },
  {
   "cell_type": "code",
   "execution_count": 12,
   "id": "d198a802",
   "metadata": {},
   "outputs": [
    {
     "name": "stdout",
     "output_type": "stream",
     "text": [
      "<bound method DataFrame.info of      Store ID   Store_Area  Items_Available  Daily_Customer_Count  Store_Sales\n",
      "0            1        1659             1961                   530        66490\n",
      "1            2        1461             1752                   210        39820\n",
      "2            3        1340             1609                   720        54010\n",
      "3            4        1451             1748                   620        53730\n",
      "4            5        1770             2111                   450        46620\n",
      "..         ...         ...              ...                   ...          ...\n",
      "891        892        1582             1910                  1080        66390\n",
      "892        893        1387             1663                   850        82080\n",
      "893        894        1200             1436                  1060        76440\n",
      "894        895        1299             1560                   770        96610\n",
      "895        896        1174             1429                  1110        54340\n",
      "\n",
      "[896 rows x 5 columns]>\n"
     ]
    }
   ],
   "source": [
    "print(store.info)"
   ]
  },
  {
   "cell_type": "code",
   "execution_count": 13,
   "id": "600e8e57",
   "metadata": {},
   "outputs": [],
   "source": [
    "##What is the average amount of customers is: 786"
   ]
  },
  {
   "cell_type": "code",
   "execution_count": 24,
   "id": "8f346246",
   "metadata": {},
   "outputs": [
    {
     "data": {
      "text/plain": [
       "786.3504464285714"
      ]
     },
     "execution_count": 24,
     "metadata": {},
     "output_type": "execute_result"
    }
   ],
   "source": [
    "store[\"Daily_Customer_Count\"].mean()"
   ]
  },
  {
   "cell_type": "code",
   "execution_count": 21,
   "id": "9b98403b",
   "metadata": {},
   "outputs": [
    {
     "data": {
      "text/plain": [
       "1560"
      ]
     },
     "execution_count": 21,
     "metadata": {},
     "output_type": "execute_result"
    }
   ],
   "source": [
    "##The highest amount of daily customers in the store is\n",
    "store[\"Daily_Customer_Count\"].max()"
   ]
  },
  {
   "cell_type": "code",
   "execution_count": 22,
   "id": "8533d966",
   "metadata": {},
   "outputs": [],
   "source": [
    "##The lowest amount of daily customers in the store is:10 "
   ]
  },
  {
   "cell_type": "code",
   "execution_count": 23,
   "id": "d4db1544",
   "metadata": {},
   "outputs": [
    {
     "data": {
      "text/plain": [
       "10"
      ]
     },
     "execution_count": 23,
     "metadata": {},
     "output_type": "execute_result"
    }
   ],
   "source": [
    "store[\"Daily_Customer_Count\"].min()"
   ]
  },
  {
   "cell_type": "code",
   "execution_count": 26,
   "id": "e86547cd",
   "metadata": {},
   "outputs": [
    {
     "data": {
      "text/html": [
       "<div>\n",
       "<style scoped>\n",
       "    .dataframe tbody tr th:only-of-type {\n",
       "        vertical-align: middle;\n",
       "    }\n",
       "\n",
       "    .dataframe tbody tr th {\n",
       "        vertical-align: top;\n",
       "    }\n",
       "\n",
       "    .dataframe thead th {\n",
       "        text-align: right;\n",
       "    }\n",
       "</style>\n",
       "<table border=\"1\" class=\"dataframe\">\n",
       "  <thead>\n",
       "    <tr style=\"text-align: right;\">\n",
       "      <th></th>\n",
       "      <th>Store ID</th>\n",
       "      <th>Store_Area</th>\n",
       "      <th>Items_Available</th>\n",
       "      <th>Daily_Customer_Count</th>\n",
       "      <th>Store_Sales</th>\n",
       "    </tr>\n",
       "  </thead>\n",
       "  <tbody>\n",
       "    <tr>\n",
       "      <th>848</th>\n",
       "      <td>849</td>\n",
       "      <td>919</td>\n",
       "      <td>1099</td>\n",
       "      <td>1560</td>\n",
       "      <td>73810</td>\n",
       "    </tr>\n",
       "  </tbody>\n",
       "</table>\n",
       "</div>"
      ],
      "text/plain": [
       "     Store ID   Store_Area  Items_Available  Daily_Customer_Count  Store_Sales\n",
       "848        849         919             1099                  1560        73810"
      ]
     },
     "execution_count": 26,
     "metadata": {},
     "output_type": "execute_result"
    }
   ],
   "source": [
    "store[store[\"Daily_Customer_Count\"]==store[\"Daily_Customer_Count\"].max()]\n",
    "##Store ID 849 is the most popular store  out of all of the stores."
   ]
  },
  {
   "cell_type": "code",
   "execution_count": 31,
   "id": "d373cf68",
   "metadata": {},
   "outputs": [
    {
     "data": {
      "text/plain": [
       "116320"
      ]
     },
     "execution_count": 31,
     "metadata": {},
     "output_type": "execute_result"
    }
   ],
   "source": [
    "store[\"Store_Sales\"].max()"
   ]
  },
  {
   "cell_type": "code",
   "execution_count": 32,
   "id": "06a4f219",
   "metadata": {},
   "outputs": [],
   "source": [
    "##Store 849 has the highest amount of customers but have a deficit in sales and stock."
   ]
  },
  {
   "cell_type": "code",
   "execution_count": 33,
   "id": "12f631ef",
   "metadata": {},
   "outputs": [
    {
     "data": {
      "text/plain": [
       "2667"
      ]
     },
     "execution_count": 33,
     "metadata": {},
     "output_type": "execute_result"
    }
   ],
   "source": [
    "store[\"Items_Available\"].max()"
   ]
  },
  {
   "cell_type": "code",
   "execution_count": 46,
   "id": "c507c8d9",
   "metadata": {},
   "outputs": [],
   "source": [
    "store_items_sales = store.sort_values(['Items_Available','Store_Sales'], ascending = [False,False])                                            "
   ]
  },
  {
   "cell_type": "code",
   "execution_count": 47,
   "id": "999b89aa",
   "metadata": {},
   "outputs": [
    {
     "name": "stdout",
     "output_type": "stream",
     "text": [
      "     Store ID   Store_Area  Items_Available  Daily_Customer_Count  Store_Sales\n",
      "466        467        2229             2667                   660        87410\n",
      "540        541        2214             2647                   740        65900\n",
      "91          92        2169             2617                   600        67080\n",
      "398        399        2063             2493                   810        51480\n",
      "849        850        2067             2492                   790        70230\n",
      "..         ...         ...              ...                   ...          ...\n",
      "406        407         896             1059                   870        75110\n",
      "549        550         869             1050                   850        52540\n",
      "744        745         854             1018                   660        77740\n",
      "865        866         780              951                   790        25600\n",
      "158        159         775              932                  1090        42530\n",
      "\n",
      "[896 rows x 5 columns]\n"
     ]
    }
   ],
   "source": [
    "print(store_items_sales)"
   ]
  },
  {
   "cell_type": "code",
   "execution_count": 53,
   "id": "c6dd484c",
   "metadata": {},
   "outputs": [],
   "source": [
    "## There is a positive correlation between the available stock of items available and sales. "
   ]
  },
  {
   "cell_type": "code",
   "execution_count": 51,
   "id": "bfedc49f",
   "metadata": {},
   "outputs": [],
   "source": [
    "store_customers_sales = store.sort_values(['Daily_Customer_Count','Store_Sales'], ascending = [False,False])                                            "
   ]
  },
  {
   "cell_type": "code",
   "execution_count": 52,
   "id": "2ab03ed1",
   "metadata": {},
   "outputs": [
    {
     "name": "stdout",
     "output_type": "stream",
     "text": [
      "     Store ID   Store_Area  Items_Available  Daily_Customer_Count  Store_Sales\n",
      "848        849         919             1099                  1560        73810\n",
      "349        350        1886             2228                  1530        40350\n",
      "535        536        1057             1262                  1490        35420\n",
      "94          95        1921             2305                  1470        77120\n",
      "312        313        1494             1806                  1450        43640\n",
      "..         ...         ...              ...                   ...          ...\n",
      "146        147        1442             1750                   130        58920\n",
      "230        231        1347             1628                   120        72350\n",
      "876        877        1259             1493                   100        88270\n",
      "151        152        1662             1986                    70        63730\n",
      "39          40        1270             1516                    10        45480\n",
      "\n",
      "[896 rows x 5 columns]\n"
     ]
    }
   ],
   "source": [
    "print(store_customers_sales)"
   ]
  },
  {
   "cell_type": "code",
   "execution_count": 54,
   "id": "833d7e0c",
   "metadata": {},
   "outputs": [],
   "source": [
    "## Some of the stores with the most customers  have low sales such as Store ID's: 350 and 536.  "
   ]
  }
 ],
 "metadata": {
  "kernelspec": {
   "display_name": "Python 3 (ipykernel)",
   "language": "python",
   "name": "python3"
  },
  "language_info": {
   "codemirror_mode": {
    "name": "ipython",
    "version": 3
   },
   "file_extension": ".py",
   "mimetype": "text/x-python",
   "name": "python",
   "nbconvert_exporter": "python",
   "pygments_lexer": "ipython3",
   "version": "3.9.12"
  }
 },
 "nbformat": 4,
 "nbformat_minor": 5
}
